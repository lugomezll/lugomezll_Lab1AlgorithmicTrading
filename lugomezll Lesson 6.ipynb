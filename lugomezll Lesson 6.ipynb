{
 "cells": [
  {
   "cell_type": "code",
   "execution_count": null,
   "metadata": {},
   "outputs": [],
   "source": [
    "# Import Algorithm API\n",
    "import quantopian.algorithm as algo\n",
    "\n",
    "# Pipeline imports\n",
    "from quantopian.pipeline import Pipeline\n",
    "from quantopian.pipeline.data.psychsignal import stocktwits\n",
    "from quantopian.pipeline.factors import SimpleMovingAverage\n",
    "from quantopian.pipeline.filters import QTradableStocksUS\n",
    "\n",
    "\n",
    "def initialize(context):\n",
    "    # Attach pipeline to algorithm\n",
    "    algo.attach_pipeline(\n",
    "        make_pipeline(),\n",
    "        'data_pipe'\n",
    "    )\n",
    "\n",
    "    # Schedule rebalance function\n",
    "    algo.schedule_function(\n",
    "        rebalance,\n",
    "        date_rule=algo.date_rules.week_start(),\n",
    "        time_rule=algo.time_rules.market_open()\n",
    "    )\n",
    "\n",
    "\n",
    "def before_trading_start(context, data):\n",
    "    # Get pipeline output and\n",
    "    # store it in context\n",
    "    context.pipeline_data = algo.pipeline_output('data_pipe')\n",
    "\n",
    "\n",
    "def rebalance(context, data):\n",
    "    # Display first 10 rows\n",
    "    # of pipeline output\n",
    "    log.info(context.pipeline_data.head(10))\n",
    "\n",
    "\n",
    "# Pipeline definition\n",
    "def make_pipeline():\n",
    "\n",
    "    base_universe = QTradableStocksUS()\n",
    "\n",
    "    sentiment_score = SimpleMovingAverage(\n",
    "        inputs=[stocktwits.bull_minus_bear],\n",
    "        window_length=3,\n",
    "    )\n",
    "\n",
    "    return Pipeline(\n",
    "        columns={\n",
    "            'sentiment_score': sentiment_score,\n",
    "        },\n",
    "        screen=(\n",
    "            base_universe\n",
    "            & sentiment_score.notnull()\n",
    "        )\n",
    "    )"
   ]
  }
 ],
 "metadata": {
  "kernelspec": {
   "display_name": "Python 3",
   "language": "python",
   "name": "python3"
  },
  "language_info": {
   "codemirror_mode": {
    "name": "ipython",
    "version": 3
   },
   "file_extension": ".py",
   "mimetype": "text/x-python",
   "name": "python",
   "nbconvert_exporter": "python",
   "pygments_lexer": "ipython3",
   "version": "3.6.7"
  }
 },
 "nbformat": 4,
 "nbformat_minor": 2
}
